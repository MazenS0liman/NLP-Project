{
 "cells": [
  {
   "cell_type": "markdown",
   "metadata": {},
   "source": [
    "# 0 - Imports"
   ]
  },
  {
   "cell_type": "code",
   "execution_count": 1,
   "metadata": {},
   "outputs": [],
   "source": [
    "import numpy as np \n",
    "import pandas as pd \n",
    "from matplotlib import pyplot as plt\n",
    "import seaborn as sns\n",
    "import tensorflow as tf\n",
    "from tensorflow import keras\n",
    "from tensorflow.keras import layers\n",
    "from sklearn.model_selection import train_test_split"
   ]
  },
  {
   "cell_type": "markdown",
   "metadata": {},
   "source": [
    "# 1 - Preprocessing"
   ]
  },
  {
   "cell_type": "markdown",
   "metadata": {},
   "source": [
    "Let's visualize our data"
   ]
  },
  {
   "cell_type": "code",
   "execution_count": 2,
   "metadata": {},
   "outputs": [
    {
     "data": {
      "text/html": [
       "<div>\n",
       "<style scoped>\n",
       "    .dataframe tbody tr th:only-of-type {\n",
       "        vertical-align: middle;\n",
       "    }\n",
       "\n",
       "    .dataframe tbody tr th {\n",
       "        vertical-align: top;\n",
       "    }\n",
       "\n",
       "    .dataframe thead th {\n",
       "        text-align: right;\n",
       "    }\n",
       "</style>\n",
       "<table border=\"1\" class=\"dataframe\">\n",
       "  <thead>\n",
       "    <tr style=\"text-align: right;\">\n",
       "      <th></th>\n",
       "      <th>id</th>\n",
       "      <th>title</th>\n",
       "      <th>context</th>\n",
       "      <th>question</th>\n",
       "      <th>answers</th>\n",
       "    </tr>\n",
       "  </thead>\n",
       "  <tbody>\n",
       "    <tr>\n",
       "      <th>131277</th>\n",
       "      <td>57266a39dd62a815002e842e_aug</td>\n",
       "      <td>Madonna_(entertainer)</td>\n",
       "      <td>They had two children, Jennifer and Mario. Madonna had resentment of him for decades, and she became rebellious. She attended St. Andrew's Catholic Elementary School and West Middle School. Madonna was known for her high grade point average and achieved notability for her unconventional behavior. When she was at recess, she would perform cartwheels and handstands in the hallways between classes, and dangle by her knees from the monkey bars so that the boys could see her underwear.</td>\n",
       "      <td>Madonna achieved a name for herself in school by her unusual behavior and also for what other reason?</td>\n",
       "      <td>{'text': array(['high grade point average'], dtype=object), 'answer_start': array([216])}</td>\n",
       "    </tr>\n",
       "    <tr>\n",
       "      <th>72207</th>\n",
       "      <td>572e867adfa6aa1500f8d0a3</td>\n",
       "      <td>Spanish_language_in_the_United_States</td>\n",
       "      <td>The Spanish language is the second most spoken language in the United States. There are 45 million Hispanophones who speak Spanish as a first or second language in the United States, as well as six million Spanish language students. Together, this makes the United States of America the second largest Hispanophone country in the world after Mexico, and with the United States having more Spanish-speakers than Colombia and Spain (but fewer first language speakers). Spanish is the Romance language and the Indo-European language with the largest number of native speakers in the world. Roughly half of all American Spanish-speakers also speak English \"very well,\" based on their self-assessment in the U.S. Census.</td>\n",
       "      <td>How many Spanish speaking students are there in the United States?</td>\n",
       "      <td>{'text': array(['six million Spanish language students.'], dtype=object), 'answer_start': array([194])}</td>\n",
       "    </tr>\n",
       "    <tr>\n",
       "      <th>3052</th>\n",
       "      <td>56cf33afaab44d1400b88e27</td>\n",
       "      <td>Spectre_(2015_film)</td>\n",
       "      <td>Bond disobeys M's order and travels to Rome to attend Sciarra's funeral. That evening he visits Sciarra's widow Lucia, who tells him about Spectre, a criminal organisation to which her husband belonged. Bond infiltrates a Spectre meeting, where he identifies the leader, Franz Oberhauser. When Oberhauser addresses Bond by name, he escapes and is pursued by Mr. Hinx, a Spectre assassin. Moneypenny informs Bond that the information he collected leads to Mr. White, former member of Quantum, a subsidiary of Spectre. Bond asks her to investigate Oberhauser, who was presumed dead years earlier.</td>\n",
       "      <td>Who is the leader of Spectre?</td>\n",
       "      <td>{'text': array(['Franz Oberhauser'], dtype=object), 'answer_start': array([271])}</td>\n",
       "    </tr>\n",
       "    <tr>\n",
       "      <th>38684</th>\n",
       "      <td>5725e93b38643c19005ace6d</td>\n",
       "      <td>Hellenistic_period</td>\n",
       "      <td>Modern interpretations see this period as a civil war between Hellenized and orthodox forms of Judaism. Out of this revolt was formed an independent Jewish kingdom known as the Hasmonaean Dynasty, which lasted from 165 BCE to 63 BCE. The Hasmonean Dynasty eventually disintegrated in a civil war, which coincided with civil wars in Rome. The last Hasmonean ruler, Antigonus II Mattathias, was captured by Herod and executed in 37 BCE. In spite of originally being a revolt against Greek overlordship, the Hasmonean kingdom and also the Herodian kingdom which followed gradually became more and more hellenized. From 37 BCE to 6 CE, the Herodian dynasty, Jewish-Roman client kings, ruled Judea. Herod the Great considerably enlarged the Temple (see Herod's Temple), making it one of the largest religious structures in the world. The style of the enlarged temple and other Herodian architecture shows significant Hellenistic architectural influence.</td>\n",
       "      <td>Who was the last Hasmonean ruler?</td>\n",
       "      <td>{'text': array(['Antigonus II Mattathias'], dtype=object), 'answer_start': array([364])}</td>\n",
       "    </tr>\n",
       "    <tr>\n",
       "      <th>113233</th>\n",
       "      <td>5709a976ed30961900e843db_aug</td>\n",
       "      <td>Computer_security</td>\n",
       "      <td>Many computers were not connected to the Internet in 1988, and most were mainframes, minicomputers and professional workstations. On November 2, 1988, many started to slow down, because they were running a malicious code that demanded processor time and spread itself to other computers. He said 'he wanted to count how many machines were connected to the Internet'.</td>\n",
       "      <td>When was the first computer worm released?</td>\n",
       "      <td>{'text': array(['November 2, 1988'], dtype=object), 'answer_start': array([133])}</td>\n",
       "    </tr>\n",
       "  </tbody>\n",
       "</table>\n",
       "</div>"
      ],
      "text/plain": [
       "                                  id                                  title  \\\n",
       "131277  57266a39dd62a815002e842e_aug                  Madonna_(entertainer)   \n",
       "72207       572e867adfa6aa1500f8d0a3  Spanish_language_in_the_United_States   \n",
       "3052        56cf33afaab44d1400b88e27                    Spectre_(2015_film)   \n",
       "38684       5725e93b38643c19005ace6d                     Hellenistic_period   \n",
       "113233  5709a976ed30961900e843db_aug                      Computer_security   \n",
       "\n",
       "                                                                                                                                                                                                                                                                                                                                                                                                                                                                                                                                                                                                                                                                                                                                                                                                                                                                                                                                                                                     context  \\\n",
       "131277                                                                                                                                                                                                                                                                                                                                                                                                                                                                                 They had two children, Jennifer and Mario. Madonna had resentment of him for decades, and she became rebellious. She attended St. Andrew's Catholic Elementary School and West Middle School. Madonna was known for her high grade point average and achieved notability for her unconventional behavior. When she was at recess, she would perform cartwheels and handstands in the hallways between classes, and dangle by her knees from the monkey bars so that the boys could see her underwear.   \n",
       "72207                                                                                                                                                                                                                                            The Spanish language is the second most spoken language in the United States. There are 45 million Hispanophones who speak Spanish as a first or second language in the United States, as well as six million Spanish language students. Together, this makes the United States of America the second largest Hispanophone country in the world after Mexico, and with the United States having more Spanish-speakers than Colombia and Spain (but fewer first language speakers). Spanish is the Romance language and the Indo-European language with the largest number of native speakers in the world. Roughly half of all American Spanish-speakers also speak English \"very well,\" based on their self-assessment in the U.S. Census.   \n",
       "3052                                                                                                                                                                                                                                                                                                                                                                      Bond disobeys M's order and travels to Rome to attend Sciarra's funeral. That evening he visits Sciarra's widow Lucia, who tells him about Spectre, a criminal organisation to which her husband belonged. Bond infiltrates a Spectre meeting, where he identifies the leader, Franz Oberhauser. When Oberhauser addresses Bond by name, he escapes and is pursued by Mr. Hinx, a Spectre assassin. Moneypenny informs Bond that the information he collected leads to Mr. White, former member of Quantum, a subsidiary of Spectre. Bond asks her to investigate Oberhauser, who was presumed dead years earlier.   \n",
       "38684   Modern interpretations see this period as a civil war between Hellenized and orthodox forms of Judaism. Out of this revolt was formed an independent Jewish kingdom known as the Hasmonaean Dynasty, which lasted from 165 BCE to 63 BCE. The Hasmonean Dynasty eventually disintegrated in a civil war, which coincided with civil wars in Rome. The last Hasmonean ruler, Antigonus II Mattathias, was captured by Herod and executed in 37 BCE. In spite of originally being a revolt against Greek overlordship, the Hasmonean kingdom and also the Herodian kingdom which followed gradually became more and more hellenized. From 37 BCE to 6 CE, the Herodian dynasty, Jewish-Roman client kings, ruled Judea. Herod the Great considerably enlarged the Temple (see Herod's Temple), making it one of the largest religious structures in the world. The style of the enlarged temple and other Herodian architecture shows significant Hellenistic architectural influence.   \n",
       "113233                                                                                                                                                                                                                                                                                                                                                                                                                                                                                                                                                                                                        Many computers were not connected to the Internet in 1988, and most were mainframes, minicomputers and professional workstations. On November 2, 1988, many started to slow down, because they were running a malicious code that demanded processor time and spread itself to other computers. He said 'he wanted to count how many machines were connected to the Internet'.   \n",
       "\n",
       "                                                                                                     question  \\\n",
       "131277  Madonna achieved a name for herself in school by her unusual behavior and also for what other reason?   \n",
       "72207                                      How many Spanish speaking students are there in the United States?   \n",
       "3052                                                                            Who is the leader of Spectre?   \n",
       "38684                                                                       Who was the last Hasmonean ruler?   \n",
       "113233                                                             When was the first computer worm released?   \n",
       "\n",
       "                                                                                                        answers  \n",
       "131277                {'text': array(['high grade point average'], dtype=object), 'answer_start': array([216])}  \n",
       "72207   {'text': array(['six million Spanish language students.'], dtype=object), 'answer_start': array([194])}  \n",
       "3052                          {'text': array(['Franz Oberhauser'], dtype=object), 'answer_start': array([271])}  \n",
       "38684                  {'text': array(['Antigonus II Mattathias'], dtype=object), 'answer_start': array([364])}  \n",
       "113233                        {'text': array(['November 2, 1988'], dtype=object), 'answer_start': array([133])}  "
      ]
     },
     "execution_count": 2,
     "metadata": {},
     "output_type": "execute_result"
    }
   ],
   "source": [
    "pd.set_option('display.max_columns', None)\n",
    "pd.set_option('display.max_colwidth', None)\n",
    "\n",
    "# Load the dataset\n",
    "data = pd.read_csv('train.csv')\n",
    "data.sample(5)"
   ]
  },
  {
   "cell_type": "markdown",
   "metadata": {},
   "source": [
    "Let's see how many rows does this dataset have"
   ]
  },
  {
   "cell_type": "code",
   "execution_count": 3,
   "metadata": {},
   "outputs": [
    {
     "data": {
      "text/plain": [
       "(169211, 5)"
      ]
     },
     "execution_count": 3,
     "metadata": {},
     "output_type": "execute_result"
    }
   ],
   "source": [
    "data.shape"
   ]
  },
  {
   "cell_type": "markdown",
   "metadata": {},
   "source": [
    "Our architecture should be as follows: \n",
    "1. preprocessing (ez, we will use a pre-trained model)\n",
    "    -  text input loksha wa7da?\n",
    "2. neural network architecture (we will use RNN)\n",
    "    - use RNN, or LSTM (which type?)\n",
    "    - attention mechanism?\n",
    "3. traning and evaluation \n",
    "    - how to evaluate/validate? "
   ]
  },
  {
   "cell_type": "code",
   "execution_count": 4,
   "metadata": {},
   "outputs": [
    {
     "data": {
      "text/plain": [
       "id          0\n",
       "title       0\n",
       "context     0\n",
       "question    0\n",
       "answers     0\n",
       "dtype: int64"
      ]
     },
     "execution_count": 4,
     "metadata": {},
     "output_type": "execute_result"
    }
   ],
   "source": [
    "# Check for missing values\n",
    "data.isnull().sum()"
   ]
  }
 ],
 "metadata": {
  "kernelspec": {
   "display_name": "Python 3",
   "language": "python",
   "name": "python3"
  },
  "language_info": {
   "codemirror_mode": {
    "name": "ipython",
    "version": 3
   },
   "file_extension": ".py",
   "mimetype": "text/x-python",
   "name": "python",
   "nbconvert_exporter": "python",
   "pygments_lexer": "ipython3",
   "version": "3.10.4"
  }
 },
 "nbformat": 4,
 "nbformat_minor": 2
}
