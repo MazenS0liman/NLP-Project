{
 "cells": [
  {
   "cell_type": "markdown",
   "metadata": {},
   "source": [
    "# 0 - Imports"
   ]
  },
  {
   "cell_type": "code",
   "execution_count": 1,
   "metadata": {},
   "outputs": [],
   "source": [
    "import numpy as np \n",
    "import pandas as pd \n",
    "from matplotlib import pyplot as plt\n",
    "import seaborn as sns\n",
    "import tensorflow as tf\n",
    "from tensorflow import keras\n",
    "from tensorflow.keras import layers\n",
    "from sklearn.model_selection import train_test_split"
   ]
  },
  {
   "cell_type": "markdown",
   "metadata": {},
   "source": [
    "# 1 - Preprocessing"
   ]
  },
  {
   "cell_type": "markdown",
   "metadata": {},
   "source": [
    "Let's visualize our data"
   ]
  },
  {
   "cell_type": "code",
   "execution_count": null,
   "metadata": {},
   "outputs": [
    {
     "data": {
      "text/html": [
       "<div>\n",
       "<style scoped>\n",
       "    .dataframe tbody tr th:only-of-type {\n",
       "        vertical-align: middle;\n",
       "    }\n",
       "\n",
       "    .dataframe tbody tr th {\n",
       "        vertical-align: top;\n",
       "    }\n",
       "\n",
       "    .dataframe thead th {\n",
       "        text-align: right;\n",
       "    }\n",
       "</style>\n",
       "<table border=\"1\" class=\"dataframe\">\n",
       "  <thead>\n",
       "    <tr style=\"text-align: right;\">\n",
       "      <th></th>\n",
       "      <th>id</th>\n",
       "      <th>title</th>\n",
       "      <th>context</th>\n",
       "      <th>question</th>\n",
       "      <th>answers</th>\n",
       "    </tr>\n",
       "  </thead>\n",
       "  <tbody>\n",
       "    <tr>\n",
       "      <th>80452</th>\n",
       "      <td>573062ec396df919000960dc</td>\n",
       "      <td>Translation</td>\n",
       "      <td>The movement to translate English and European texts transformed the Arabic and Ottoman Turkish languages, and new words, simplified syntax, and directness came to be valued over the previous convolutions. Educated Arabs and Turks in the new professions and the modernized civil service expressed skepticism, writes Christopher de Bellaigue, \"with a freedom that is rarely witnessed today.... No longer was legitimate knowledge defined by texts in the religious schools, interpreted for the most part with stultifying literalness. It had come to include virtually any intellectual production anywhere in the world.\" One of the neologisms that, in a way, came to characterize the infusion of new ideas via translation was \"darwiniya\", or \"Darwinism\".</td>\n",
       "      <td>Who expressed skepticism regarding the transformation of Arabic?</td>\n",
       "      <td>{'text': array(['Educated Arabs and Turks'], dtype=object), 'answer_start': array([206])}</td>\n",
       "    </tr>\n",
       "    <tr>\n",
       "      <th>26063</th>\n",
       "      <td>570716129e06ca38007e93e0</td>\n",
       "      <td>Chihuahua_(state)</td>\n",
       "      <td>The anti-clerical feeling was widespread, and Durango supported the initial reaction against the government at Mexico. In May 1832, José Urrea, a rising officer, supported the restoration of President Pedraza. On July 20, Governor Elorriaga was reinstated, and Baca along with the legislative minority were brought back to form a new legislature, which met on September 1. Chihuahua showed no desire to imitate the revolutionary movement and Urrea prepared to invade the state. Comandante-general J.J.Calvo threatened to retaliate, and a conflict seemed imminent. The entry of General Santa Anna into Mexico brought calm, as the leaders waited for clarity.</td>\n",
       "      <td>Who supported the restoration of President Pedraza?</td>\n",
       "      <td>{'text': array(['José Urrea'], dtype=object), 'answer_start': array([132])}</td>\n",
       "    </tr>\n",
       "    <tr>\n",
       "      <th>72447</th>\n",
       "      <td>5730345eb2c2fd1400568a69</td>\n",
       "      <td>Charleston,_South_Carolina</td>\n",
       "      <td>Investment in the city continued. The William Enston Home, a planned community for the city's aged and infirm, was built in 1889. An elaborate public building, the United States Post Office and Courthouse, was completed by the federal government in 1896 in the heart of the city. The Democrat-dominated state legislature passed a new constitution in 1895 that disfranchised blacks, effectively excluding them entirely from the political process, a second-class status that was maintained for more than six decades in a state that was majority black until about 1930.</td>\n",
       "      <td>Which party dominated South Carolina's state legislature?</td>\n",
       "      <td>{'text': array(['Democrat'], dtype=object), 'answer_start': array([284])}</td>\n",
       "    </tr>\n",
       "    <tr>\n",
       "      <th>158782</th>\n",
       "      <td>572fb6f904bcaa1900d76c27_aug</td>\n",
       "      <td>Database</td>\n",
       "      <td>A database built in one DBMS is not portable to another DBMS, hence the other DBMS cannot run it. However, migration of one database to another is desirable in some situations. The reasons are primarily economical (different DBMSs may have different total costs of ownership (TCOs), functional, and operational (different DBMSs may have different capabilities). The migration involves changing the database type to another. If possible, the transformation should maintain (if possible) the database related application (other than all related application programs). Therefore, in the transformation, the conceptual and external architectural levels of the database should be preserved. It may be desirable to maintain some aspects of architecture at the internal level. It may be a complicated and costly project itself, which should be considered when deciding whether to migrate complex or large data bases. This is in spite of the fact that tools exist to facilitate migration between specific database management systems. Typically a DBMS vendor provides tools to help import databases from other popular DBMSs.</td>\n",
       "      <td>Can a DBMS be transfered to a different DBMS?</td>\n",
       "      <td>{'text': array(['ano'], dtype=object), 'answer_start': array([48])}</td>\n",
       "    </tr>\n",
       "    <tr>\n",
       "      <th>117607</th>\n",
       "      <td>570c6499fed7b91900d4597c_aug</td>\n",
       "      <td>John,_King_of_England</td>\n",
       "      <td>By the 19th century historians were more inclined to take on the judgements of the chroniclers and to focus on John's moral personality. Kate Norgate, for instance, claimed that John's downfall was not due to his failure in war or strategy, but due to his \"almost superhuman wickedness\". James Ramsay blamed John's family background and his cruel personality for his downfall. Historians in the \"Whiggish\" tradition, focusing on documents such as the Domesday Book and Magna Carta, trace a progressive and universalist course of political and economic development in England over the medieval period. John's reign, and his signing of the Magna Carta, were treated by these historians as a positive step in the development of England, but not without flaws in the King himself. Churchill wrote in his \"The long tally is added, it will be seen that the British nation and the English-speaking world owe far more to the vices of John than to the labours of virtuous sovereigns\".</td>\n",
       "      <td>What documents trace a progressive and universalist course of political and economic development in England?</td>\n",
       "      <td>{'text': array(['Domesday Book and Magna Carta'], dtype=object), 'answer_start': array([451])}</td>\n",
       "    </tr>\n",
       "  </tbody>\n",
       "</table>\n",
       "</div>"
      ],
      "text/plain": [
       "                                  id                       title  \\\n",
       "80452       573062ec396df919000960dc                 Translation   \n",
       "26063       570716129e06ca38007e93e0           Chihuahua_(state)   \n",
       "72447       5730345eb2c2fd1400568a69  Charleston,_South_Carolina   \n",
       "158782  572fb6f904bcaa1900d76c27_aug                    Database   \n",
       "117607  570c6499fed7b91900d4597c_aug       John,_King_of_England   \n",
       "\n",
       "                                                                                                                                                                                                                                                                                                                                                                                                                                                                                                                                                                                                                                                                                                                                                                                                                                                                                                                                                                                                                                                                                                                                                            context  \\\n",
       "80452                                                                                                                                                                                                                                                                                                                                                                                 The movement to translate English and European texts transformed the Arabic and Ottoman Turkish languages, and new words, simplified syntax, and directness came to be valued over the previous convolutions. Educated Arabs and Turks in the new professions and the modernized civil service expressed skepticism, writes Christopher de Bellaigue, \"with a freedom that is rarely witnessed today.... No longer was legitimate knowledge defined by texts in the religious schools, interpreted for the most part with stultifying literalness. It had come to include virtually any intellectual production anywhere in the world.\" One of the neologisms that, in a way, came to characterize the infusion of new ideas via translation was \"darwiniya\", or \"Darwinism\".   \n",
       "26063                                                                                                                                                                                                                                                                                                                                                                                                                                                                              The anti-clerical feeling was widespread, and Durango supported the initial reaction against the government at Mexico. In May 1832, José Urrea, a rising officer, supported the restoration of President Pedraza. On July 20, Governor Elorriaga was reinstated, and Baca along with the legislative minority were brought back to form a new legislature, which met on September 1. Chihuahua showed no desire to imitate the revolutionary movement and Urrea prepared to invade the state. Comandante-general J.J.Calvo threatened to retaliate, and a conflict seemed imminent. The entry of General Santa Anna into Mexico brought calm, as the leaders waited for clarity.   \n",
       "72447                                                                                                                                                                                                                                                                                                                                                                                                                                                                                                                                                                        Investment in the city continued. The William Enston Home, a planned community for the city's aged and infirm, was built in 1889. An elaborate public building, the United States Post Office and Courthouse, was completed by the federal government in 1896 in the heart of the city. The Democrat-dominated state legislature passed a new constitution in 1895 that disfranchised blacks, effectively excluding them entirely from the political process, a second-class status that was maintained for more than six decades in a state that was majority black until about 1930.   \n",
       "158782  A database built in one DBMS is not portable to another DBMS, hence the other DBMS cannot run it. However, migration of one database to another is desirable in some situations. The reasons are primarily economical (different DBMSs may have different total costs of ownership (TCOs), functional, and operational (different DBMSs may have different capabilities). The migration involves changing the database type to another. If possible, the transformation should maintain (if possible) the database related application (other than all related application programs). Therefore, in the transformation, the conceptual and external architectural levels of the database should be preserved. It may be desirable to maintain some aspects of architecture at the internal level. It may be a complicated and costly project itself, which should be considered when deciding whether to migrate complex or large data bases. This is in spite of the fact that tools exist to facilitate migration between specific database management systems. Typically a DBMS vendor provides tools to help import databases from other popular DBMSs.   \n",
       "117607                                                                                                                                              By the 19th century historians were more inclined to take on the judgements of the chroniclers and to focus on John's moral personality. Kate Norgate, for instance, claimed that John's downfall was not due to his failure in war or strategy, but due to his \"almost superhuman wickedness\". James Ramsay blamed John's family background and his cruel personality for his downfall. Historians in the \"Whiggish\" tradition, focusing on documents such as the Domesday Book and Magna Carta, trace a progressive and universalist course of political and economic development in England over the medieval period. John's reign, and his signing of the Magna Carta, were treated by these historians as a positive step in the development of England, but not without flaws in the King himself. Churchill wrote in his \"The long tally is added, it will be seen that the British nation and the English-speaking world owe far more to the vices of John than to the labours of virtuous sovereigns\".   \n",
       "\n",
       "                                                                                                            question  \\\n",
       "80452                                               Who expressed skepticism regarding the transformation of Arabic?   \n",
       "26063                                                            Who supported the restoration of President Pedraza?   \n",
       "72447                                                      Which party dominated South Carolina's state legislature?   \n",
       "158782                                                                 Can a DBMS be transfered to a different DBMS?   \n",
       "117607  What documents trace a progressive and universalist course of political and economic development in England?   \n",
       "\n",
       "                                                                                               answers  \n",
       "80452        {'text': array(['Educated Arabs and Turks'], dtype=object), 'answer_start': array([206])}  \n",
       "26063                      {'text': array(['José Urrea'], dtype=object), 'answer_start': array([132])}  \n",
       "72447                        {'text': array(['Democrat'], dtype=object), 'answer_start': array([284])}  \n",
       "158782                             {'text': array(['ano'], dtype=object), 'answer_start': array([48])}  \n",
       "117607  {'text': array(['Domesday Book and Magna Carta'], dtype=object), 'answer_start': array([451])}  "
      ]
     },
     "execution_count": 5,
     "metadata": {},
     "output_type": "execute_result"
    }
   ],
   "source": [
    "pd.set_option('display.max_columns', None)\n",
    "pd.set_option('display.max_colwidth', None)\n",
    "\n",
    "# Load the dataset\n",
    "data = pd.read_csv('train.csv')\n",
    "data.sample(5)"
   ]
  },
  {
   "cell_type": "markdown",
   "metadata": {},
   "source": [
    "Let's see how many rows does this dataset have"
   ]
  },
  {
   "cell_type": "code",
   "execution_count": 6,
   "metadata": {},
   "outputs": [
    {
     "data": {
      "text/plain": [
       "(169211, 5)"
      ]
     },
     "execution_count": 6,
     "metadata": {},
     "output_type": "execute_result"
    }
   ],
   "source": [
    "data.shape"
   ]
  }
 ],
 "metadata": {
  "kernelspec": {
   "display_name": "Python 3",
   "language": "python",
   "name": "python3"
  },
  "language_info": {
   "codemirror_mode": {
    "name": "ipython",
    "version": 3
   },
   "file_extension": ".py",
   "mimetype": "text/x-python",
   "name": "python",
   "nbconvert_exporter": "python",
   "pygments_lexer": "ipython3",
   "version": "3.10.4"
  }
 },
 "nbformat": 4,
 "nbformat_minor": 2
}
